{
 "cells": [
  {
   "cell_type": "markdown",
   "id": "f5d955ed-c1cb-4f9d-99d1-2567f124aba1",
   "metadata": {},
   "source": [
    "# 01-Kaggle House Prices 2023 (EDA)"
   ]
  },
  {
   "cell_type": "code",
   "execution_count": 1,
   "id": "d76a30fa-6f90-470f-959d-09cf119aab9b",
   "metadata": {},
   "outputs": [],
   "source": [
    "import pandas as pd"
   ]
  },
  {
   "cell_type": "code",
   "execution_count": 2,
   "id": "ed872bf9-e517-45cf-aca1-e89081769fb8",
   "metadata": {},
   "outputs": [],
   "source": [
    "data = pd.read_csv('data/For_EDA_dataset.csv')"
   ]
  },
  {
   "cell_type": "code",
   "execution_count": 3,
   "id": "69f499ad-f291-4672-8a49-4ea0f54510e4",
   "metadata": {},
   "outputs": [
    {
     "data": {
      "text/plain": [
       "(153430, 15)"
      ]
     },
     "execution_count": 3,
     "metadata": {},
     "output_type": "execute_result"
    }
   ],
   "source": [
    "data.shape"
   ]
  },
  {
   "cell_type": "code",
   "execution_count": 4,
   "id": "9f9ac895-6565-4658-9776-5dd3899aff29",
   "metadata": {},
   "outputs": [
    {
     "data": {
      "text/html": [
       "<div>\n",
       "<style scoped>\n",
       "    .dataframe tbody tr th:only-of-type {\n",
       "        vertical-align: middle;\n",
       "    }\n",
       "\n",
       "    .dataframe tbody tr th {\n",
       "        vertical-align: top;\n",
       "    }\n",
       "\n",
       "    .dataframe thead th {\n",
       "        text-align: right;\n",
       "    }\n",
       "</style>\n",
       "<table border=\"1\" class=\"dataframe\">\n",
       "  <thead>\n",
       "    <tr style=\"text-align: right;\">\n",
       "      <th></th>\n",
       "      <th>Unnamed: 0</th>\n",
       "      <th>property_type</th>\n",
       "      <th>price</th>\n",
       "      <th>location</th>\n",
       "      <th>city</th>\n",
       "      <th>province_name</th>\n",
       "      <th>latitude</th>\n",
       "      <th>longitude</th>\n",
       "      <th>baths</th>\n",
       "      <th>purpose</th>\n",
       "      <th>bedrooms</th>\n",
       "      <th>date_added</th>\n",
       "      <th>agency</th>\n",
       "      <th>agent</th>\n",
       "      <th>Area_in_Marla</th>\n",
       "    </tr>\n",
       "  </thead>\n",
       "  <tbody>\n",
       "    <tr>\n",
       "      <th>0</th>\n",
       "      <td>0</td>\n",
       "      <td>Flat</td>\n",
       "      <td>10000000</td>\n",
       "      <td>G-10</td>\n",
       "      <td>Islamabad</td>\n",
       "      <td>Islamabad Capital</td>\n",
       "      <td>33.679890</td>\n",
       "      <td>73.012640</td>\n",
       "      <td>2</td>\n",
       "      <td>For Sale</td>\n",
       "      <td>2</td>\n",
       "      <td>2019-02-04</td>\n",
       "      <td>Self</td>\n",
       "      <td>Self</td>\n",
       "      <td>4.0</td>\n",
       "    </tr>\n",
       "    <tr>\n",
       "      <th>1</th>\n",
       "      <td>1</td>\n",
       "      <td>Flat</td>\n",
       "      <td>6900000</td>\n",
       "      <td>E-11</td>\n",
       "      <td>Islamabad</td>\n",
       "      <td>Islamabad Capital</td>\n",
       "      <td>33.700993</td>\n",
       "      <td>72.971492</td>\n",
       "      <td>3</td>\n",
       "      <td>For Sale</td>\n",
       "      <td>3</td>\n",
       "      <td>2019-05-04</td>\n",
       "      <td>Self</td>\n",
       "      <td>Self</td>\n",
       "      <td>5.6</td>\n",
       "    </tr>\n",
       "    <tr>\n",
       "      <th>2</th>\n",
       "      <td>2</td>\n",
       "      <td>House</td>\n",
       "      <td>16500000</td>\n",
       "      <td>G-15</td>\n",
       "      <td>Islamabad</td>\n",
       "      <td>Islamabad Capital</td>\n",
       "      <td>33.631486</td>\n",
       "      <td>72.926559</td>\n",
       "      <td>6</td>\n",
       "      <td>For Sale</td>\n",
       "      <td>5</td>\n",
       "      <td>2019-07-17</td>\n",
       "      <td>Self</td>\n",
       "      <td>Self</td>\n",
       "      <td>8.0</td>\n",
       "    </tr>\n",
       "    <tr>\n",
       "      <th>3</th>\n",
       "      <td>3</td>\n",
       "      <td>House</td>\n",
       "      <td>43500000</td>\n",
       "      <td>Bani Gala</td>\n",
       "      <td>Islamabad</td>\n",
       "      <td>Islamabad Capital</td>\n",
       "      <td>33.707573</td>\n",
       "      <td>73.151199</td>\n",
       "      <td>4</td>\n",
       "      <td>For Sale</td>\n",
       "      <td>4</td>\n",
       "      <td>2019-04-05</td>\n",
       "      <td>Self</td>\n",
       "      <td>Self</td>\n",
       "      <td>40.0</td>\n",
       "    </tr>\n",
       "    <tr>\n",
       "      <th>4</th>\n",
       "      <td>4</td>\n",
       "      <td>House</td>\n",
       "      <td>7000000</td>\n",
       "      <td>DHA Defence</td>\n",
       "      <td>Islamabad</td>\n",
       "      <td>Islamabad Capital</td>\n",
       "      <td>33.492591</td>\n",
       "      <td>73.301339</td>\n",
       "      <td>3</td>\n",
       "      <td>For Sale</td>\n",
       "      <td>3</td>\n",
       "      <td>2019-07-10</td>\n",
       "      <td>Easy Property</td>\n",
       "      <td>Muhammad Junaid Ceo Muhammad Shahid Director</td>\n",
       "      <td>8.0</td>\n",
       "    </tr>\n",
       "  </tbody>\n",
       "</table>\n",
       "</div>"
      ],
      "text/plain": [
       "   Unnamed: 0 property_type     price     location       city  \\\n",
       "0           0          Flat  10000000         G-10  Islamabad   \n",
       "1           1          Flat   6900000         E-11  Islamabad   \n",
       "2           2         House  16500000         G-15  Islamabad   \n",
       "3           3         House  43500000    Bani Gala  Islamabad   \n",
       "4           4         House   7000000  DHA Defence  Islamabad   \n",
       "\n",
       "       province_name   latitude  longitude  baths   purpose  bedrooms  \\\n",
       "0  Islamabad Capital  33.679890  73.012640      2  For Sale         2   \n",
       "1  Islamabad Capital  33.700993  72.971492      3  For Sale         3   \n",
       "2  Islamabad Capital  33.631486  72.926559      6  For Sale         5   \n",
       "3  Islamabad Capital  33.707573  73.151199      4  For Sale         4   \n",
       "4  Islamabad Capital  33.492591  73.301339      3  For Sale         3   \n",
       "\n",
       "   date_added         agency                                         agent  \\\n",
       "0  2019-02-04           Self                                          Self   \n",
       "1  2019-05-04           Self                                          Self   \n",
       "2  2019-07-17           Self                                          Self   \n",
       "3  2019-04-05           Self                                          Self   \n",
       "4  2019-07-10  Easy Property  Muhammad Junaid Ceo Muhammad Shahid Director   \n",
       "\n",
       "   Area_in_Marla  \n",
       "0            4.0  \n",
       "1            5.6  \n",
       "2            8.0  \n",
       "3           40.0  \n",
       "4            8.0  "
      ]
     },
     "execution_count": 4,
     "metadata": {},
     "output_type": "execute_result"
    }
   ],
   "source": [
    "data.head()"
   ]
  },
  {
   "cell_type": "code",
   "execution_count": null,
   "id": "8a299ee6-4f6f-4ee3-977f-b120356d64a8",
   "metadata": {},
   "outputs": [],
   "source": []
  }
 ],
 "metadata": {
  "kernelspec": {
   "display_name": "Python 3 (ipykernel)",
   "language": "python",
   "name": "python3"
  },
  "language_info": {
   "codemirror_mode": {
    "name": "ipython",
    "version": 3
   },
   "file_extension": ".py",
   "mimetype": "text/x-python",
   "name": "python",
   "nbconvert_exporter": "python",
   "pygments_lexer": "ipython3",
   "version": "3.11.5"
  }
 },
 "nbformat": 4,
 "nbformat_minor": 5
}
