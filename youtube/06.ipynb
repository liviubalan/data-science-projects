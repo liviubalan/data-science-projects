{
 "cells": [
  {
   "cell_type": "markdown",
   "id": "3e9f6125-4fc1-44e3-9374-6c909d8b6709",
   "metadata": {},
   "source": [
    "# [Quartiles, Deciles, & Percentiles With Cumulative Relative Frequency - Data & Statistics](https://www.youtube.com/watch?v=40o82o3uNfk&list=PL0o_zxa4K1BVsziIRdfv4Hl4UIqDZhXWV&index=19&ab_channel=TheOrganicChemistryTutor)"
   ]
  },
  {
   "cell_type": "code",
   "execution_count": 1,
   "id": "d6af8831-966d-43ed-ae37-0c1790ebe0b5",
   "metadata": {},
   "outputs": [],
   "source": [
    "import numpy as np\n",
    "import pandas as pd\n",
    "from sklearn.linear_model import LinearRegression"
   ]
  },
  {
   "cell_type": "markdown",
   "id": "62534207-6338-450e-a996-90cfccfcebd6",
   "metadata": {},
   "source": [
    "```\n",
    "2,3,5,7,8,10,11,13,15,16,19\n",
    "Q1: 5\n",
    "Q2: 10\n",
    "Q3: 15\n",
    "```"
   ]
  },
  {
   "cell_type": "code",
   "execution_count": 2,
   "id": "5f3b8f77-f4b3-4455-bcf7-e7079065f27b",
   "metadata": {},
   "outputs": [
    {
     "data": {
      "text/html": [
       "<div>\n",
       "<style scoped>\n",
       "    .dataframe tbody tr th:only-of-type {\n",
       "        vertical-align: middle;\n",
       "    }\n",
       "\n",
       "    .dataframe tbody tr th {\n",
       "        vertical-align: top;\n",
       "    }\n",
       "\n",
       "    .dataframe thead th {\n",
       "        text-align: right;\n",
       "    }\n",
       "</style>\n",
       "<table border=\"1\" class=\"dataframe\">\n",
       "  <thead>\n",
       "    <tr style=\"text-align: right;\">\n",
       "      <th></th>\n",
       "      <th>0</th>\n",
       "    </tr>\n",
       "  </thead>\n",
       "  <tbody>\n",
       "    <tr>\n",
       "      <th>0</th>\n",
       "      <td>2</td>\n",
       "    </tr>\n",
       "    <tr>\n",
       "      <th>1</th>\n",
       "      <td>3</td>\n",
       "    </tr>\n",
       "    <tr>\n",
       "      <th>2</th>\n",
       "      <td>5</td>\n",
       "    </tr>\n",
       "    <tr>\n",
       "      <th>3</th>\n",
       "      <td>7</td>\n",
       "    </tr>\n",
       "    <tr>\n",
       "      <th>4</th>\n",
       "      <td>8</td>\n",
       "    </tr>\n",
       "    <tr>\n",
       "      <th>5</th>\n",
       "      <td>10</td>\n",
       "    </tr>\n",
       "    <tr>\n",
       "      <th>6</th>\n",
       "      <td>11</td>\n",
       "    </tr>\n",
       "    <tr>\n",
       "      <th>7</th>\n",
       "      <td>13</td>\n",
       "    </tr>\n",
       "    <tr>\n",
       "      <th>8</th>\n",
       "      <td>15</td>\n",
       "    </tr>\n",
       "    <tr>\n",
       "      <th>9</th>\n",
       "      <td>16</td>\n",
       "    </tr>\n",
       "    <tr>\n",
       "      <th>10</th>\n",
       "      <td>19</td>\n",
       "    </tr>\n",
       "  </tbody>\n",
       "</table>\n",
       "</div>"
      ],
      "text/plain": [
       "     0\n",
       "0    2\n",
       "1    3\n",
       "2    5\n",
       "3    7\n",
       "4    8\n",
       "5   10\n",
       "6   11\n",
       "7   13\n",
       "8   15\n",
       "9   16\n",
       "10  19"
      ]
     },
     "execution_count": 2,
     "metadata": {},
     "output_type": "execute_result"
    }
   ],
   "source": [
    "data = [2,3,5,7,8,10,11,13,15,16,19]\n",
    "df = pd.DataFrame(data)\n",
    "df"
   ]
  },
  {
   "cell_type": "code",
   "execution_count": 3,
   "id": "41416ec6-eb94-4982-b931-a61918afb988",
   "metadata": {},
   "outputs": [
    {
     "data": {
      "text/plain": [
       "0    6.0\n",
       "Name: 0.25, dtype: float64"
      ]
     },
     "execution_count": 3,
     "metadata": {},
     "output_type": "execute_result"
    }
   ],
   "source": [
    "# INFO: cea mai utilizata e quantile vs percentile\n",
    "df.quantile(q=0.25)"
   ]
  },
  {
   "cell_type": "code",
   "execution_count": 4,
   "id": "7df2e6c4-7fef-4dd6-be6d-89d892a2c33e",
   "metadata": {},
   "outputs": [
    {
     "data": {
      "text/plain": [
       "0    10.0\n",
       "Name: 0.5, dtype: float64"
      ]
     },
     "execution_count": 4,
     "metadata": {},
     "output_type": "execute_result"
    }
   ],
   "source": [
    "df.quantile(q=0.5)"
   ]
  },
  {
   "cell_type": "code",
   "execution_count": 5,
   "id": "cd5dec07-3f25-41e7-a2ce-35647b2da389",
   "metadata": {},
   "outputs": [
    {
     "data": {
      "text/plain": [
       "0    14.0\n",
       "Name: 0.75, dtype: float64"
      ]
     },
     "execution_count": 5,
     "metadata": {},
     "output_type": "execute_result"
    }
   ],
   "source": [
    "df.quantile(q=0.75)"
   ]
  },
  {
   "cell_type": "code",
   "execution_count": 6,
   "id": "535ab406-8821-40f7-b3f5-3f1a24c801a7",
   "metadata": {},
   "outputs": [
    {
     "data": {
      "text/html": [
       "<div>\n",
       "<style scoped>\n",
       "    .dataframe tbody tr th:only-of-type {\n",
       "        vertical-align: middle;\n",
       "    }\n",
       "\n",
       "    .dataframe tbody tr th {\n",
       "        vertical-align: top;\n",
       "    }\n",
       "\n",
       "    .dataframe thead th {\n",
       "        text-align: right;\n",
       "    }\n",
       "</style>\n",
       "<table border=\"1\" class=\"dataframe\">\n",
       "  <thead>\n",
       "    <tr style=\"text-align: right;\">\n",
       "      <th></th>\n",
       "      <th>0</th>\n",
       "    </tr>\n",
       "  </thead>\n",
       "  <tbody>\n",
       "    <tr>\n",
       "      <th>0.25</th>\n",
       "      <td>6.0</td>\n",
       "    </tr>\n",
       "    <tr>\n",
       "      <th>0.50</th>\n",
       "      <td>10.0</td>\n",
       "    </tr>\n",
       "    <tr>\n",
       "      <th>0.75</th>\n",
       "      <td>14.0</td>\n",
       "    </tr>\n",
       "  </tbody>\n",
       "</table>\n",
       "</div>"
      ],
      "text/plain": [
       "         0\n",
       "0.25   6.0\n",
       "0.50  10.0\n",
       "0.75  14.0"
      ]
     },
     "execution_count": 6,
     "metadata": {},
     "output_type": "execute_result"
    }
   ],
   "source": [
    "df.quantile([0.25, 0.5, 0.75])"
   ]
  },
  {
   "cell_type": "markdown",
   "id": "a2ec879a-d573-4fed-b783-3a9bb28ba7a7",
   "metadata": {},
   "source": [
    "# [Mean Absolute Deviation - Statistics](https://www.youtube.com/watch?v=K4heM9mSrw0&list=PL0o_zxa4K1BVsziIRdfv4Hl4UIqDZhXWV&index=26&ab_channel=TheOrganicChemistryTutor)"
   ]
  },
  {
   "cell_type": "code",
   "execution_count": 7,
   "id": "da211a5e-824a-4bdb-a29a-0cc7088acc95",
   "metadata": {},
   "outputs": [],
   "source": [
    "data = [7,11,14,19,22,29]\n",
    "df = pd.DataFrame(data)\n",
    "# df[0]#.mad() # Error\n",
    "# df.mad(axis = 0) "
   ]
  },
  {
   "cell_type": "markdown",
   "id": "2d66d7a3-b564-43f5-8c75-f827c095387e",
   "metadata": {},
   "source": [
    "# [Correlation Coefficient](https://www.youtube.com/watch?v=11c9cs6WpJU&list=PL0o_zxa4K1BVsziIRdfv4Hl4UIqDZhXWV&index=73&ab_channel=TheOrganicChemistryTutor)"
   ]
  },
  {
   "cell_type": "code",
   "execution_count": 8,
   "id": "131165bd-7b5d-4510-b050-ccc5cbc5a69c",
   "metadata": {},
   "outputs": [],
   "source": [
    "x = np.array([1,2,3,4,5,6])\n",
    "y = np.array([2,4,7,9,12,14])"
   ]
  },
  {
   "cell_type": "code",
   "execution_count": 9,
   "id": "e6e6d8bb-1fda-4726-bd49-4535d48f6fd0",
   "metadata": {},
   "outputs": [
    {
     "data": {
      "text/plain": [
       "0.99838143945703"
      ]
     },
     "execution_count": 9,
     "metadata": {},
     "output_type": "execute_result"
    }
   ],
   "source": [
    "s_x = x.sum()\n",
    "s_y = y.sum()\n",
    "s_xy = (x * y).sum()\n",
    "s_x2 = (x**2).sum()\n",
    "s_y2 = (y**2).sum()\n",
    "n = len(x)\n",
    "r_up = n * s_xy - s_x * s_y\n",
    "r_down = ((n * s_x2 - s_x**2) * (n * s_y2 - s_y**2))**0.5\n",
    "r = r_up / r_down\n",
    "r"
   ]
  },
  {
   "cell_type": "code",
   "execution_count": 10,
   "id": "676af5ec-f9f1-4a07-97fa-5bda39da9845",
   "metadata": {},
   "outputs": [
    {
     "data": {
      "text/plain": [
       "array([[1.        , 0.99838144],\n",
       "       [0.99838144, 1.        ]])"
      ]
     },
     "execution_count": 10,
     "metadata": {},
     "output_type": "execute_result"
    }
   ],
   "source": [
    "np.corrcoef(x, y)"
   ]
  },
  {
   "cell_type": "markdown",
   "id": "951afdc2-641c-4230-ac48-f83d92fcde65",
   "metadata": {},
   "source": [
    "# [Linear Regression Using Least Squares Method - Line of Best Fit Equation](https://www.youtube.com/watch?v=P8hT5nDai6A&list=PL0o_zxa4K1BVsziIRdfv4Hl4UIqDZhXWV&index=74&ab_channel=TheOrganicChemistryTutor)"
   ]
  },
  {
   "cell_type": "code",
   "execution_count": 11,
   "id": "a2d390de-0cff-44f2-ba1a-fc070c9b832d",
   "metadata": {},
   "outputs": [],
   "source": [
    "x = np.array([1, 2, 3, 4, 5, 6, 7])\n",
    "y = np.array([1.5, 3.8, 6.7, 9, 11.2, 13.6, 16])"
   ]
  },
  {
   "cell_type": "code",
   "execution_count": 12,
   "id": "68632994-5589-4342-9f57-aa21357ab39b",
   "metadata": {},
   "outputs": [
    {
     "name": "stdout",
     "output_type": "stream",
     "text": [
      "2.4142857142857133 * x + -0.8285714285714231\n",
      "4.0000000000000036\n",
      "11.242857142857142\n",
      "16.07142857142857\n"
     ]
    }
   ],
   "source": [
    "s_x = x.sum()\n",
    "s_y = y.sum()\n",
    "s_xy = (x * y).sum()\n",
    "s_x2 = (x**2).sum()\n",
    "n = len(x)\n",
    "m_up = n * s_xy - s_x * s_y\n",
    "m_down = n * s_x2 - s_x**2\n",
    "m = m_up / m_down\n",
    "b = (s_y - m * s_x) / n\n",
    "\n",
    "def lin_reg(x):\n",
    "    return m * x + b\n",
    "\n",
    "print('{m} * x + {b}'.format(m=m, b=b))\n",
    "print(lin_reg(2))\n",
    "print(lin_reg(5))\n",
    "print(lin_reg(7))"
   ]
  },
  {
   "cell_type": "code",
   "execution_count": 13,
   "id": "6999432d-00d4-495b-9a5a-41f48e2dd732",
   "metadata": {},
   "outputs": [
    {
     "data": {
      "text/plain": [
       "array([ 4.        , 11.24285714, 16.07142857])"
      ]
     },
     "execution_count": 13,
     "metadata": {},
     "output_type": "execute_result"
    }
   ],
   "source": [
    "X = x.reshape(-1, 1)\n",
    "X_test = np.array([2, 5, 7]).reshape(-1, 1)\n",
    "regr = LinearRegression()\n",
    "regr.fit(X, y)\n",
    "regr.predict(X_test)"
   ]
  },
  {
   "cell_type": "markdown",
   "id": "acdca955-feef-4623-b612-5fd9d80d6486",
   "metadata": {},
   "source": [
    "# [How To Calculate The Covariance Between X and Y - Statistics](https://www.youtube.com/watch?v=rb2nU7YZV_I&ab_channel=TheOrganicChemistryTutor)"
   ]
  },
  {
   "cell_type": "code",
   "execution_count": 22,
   "id": "d0d47330-d6f0-4e9d-8516-19886801d659",
   "metadata": {},
   "outputs": [
    {
     "ename": "ValueError",
     "evalue": "operands could not be broadcast together with shapes (5,) (7,) ",
     "output_type": "error",
     "traceback": [
      "\u001b[0;31m---------------------------------------------------------------------------\u001b[0m",
      "\u001b[0;31mValueError\u001b[0m                                Traceback (most recent call last)",
      "Cell \u001b[0;32mIn[22], line 6\u001b[0m\n\u001b[1;32m      4\u001b[0m y_mean \u001b[38;5;241m=\u001b[39m y\u001b[38;5;241m.\u001b[39mmean()\n\u001b[1;32m      5\u001b[0m n \u001b[38;5;241m=\u001b[39m \u001b[38;5;28mlen\u001b[39m(x)\n\u001b[0;32m----> 6\u001b[0m cov_up \u001b[38;5;241m=\u001b[39m ((x \u001b[38;5;241m-\u001b[39m x_mean) \u001b[38;5;241m/\u001b[39m (y \u001b[38;5;241m-\u001b[39m y_mean))\n",
      "\u001b[0;31mValueError\u001b[0m: operands could not be broadcast together with shapes (5,) (7,) "
     ]
    }
   ],
   "source": [
    "x = np.array([2, 4, 6, 8, 10])\n",
    "x = np.array([3, 7, 10, 14, 17])\n",
    "x_mean = x.mean()\n",
    "y_mean = y.mean()\n",
    "n = len(x)\n",
    "cov_up = ((x - x_mean) / (y - y_mean))\n",
    "# cov_down = n - 1\n",
    "# cov = cov_up / cov_down\n",
    "# cov"
   ]
  },
  {
   "cell_type": "markdown",
   "id": "6334c3c3-a56c-422f-884d-d50a3ddd6543",
   "metadata": {},
   "source": [
    "# Q&A\n",
    "- wrong computed quartile\n",
    "- how to compute decile\n",
    "- after I compute standard deviation how can I use it?\n",
    "- how can you compute Mean Absolute Deviation and what is the difference between std\n",
    "- YouTube playlist probability section: real life application\n",
    "- Difference between covariance and correlation coefficient\n",
    "- Difference beteen covariance and variance"
   ]
  },
  {
   "cell_type": "code",
   "execution_count": null,
   "id": "f602b14e-8f04-488f-866c-63981de9c08f",
   "metadata": {},
   "outputs": [],
   "source": []
  }
 ],
 "metadata": {
  "kernelspec": {
   "display_name": "Python 3 (ipykernel)",
   "language": "python",
   "name": "python3"
  },
  "language_info": {
   "codemirror_mode": {
    "name": "ipython",
    "version": 3
   },
   "file_extension": ".py",
   "mimetype": "text/x-python",
   "name": "python",
   "nbconvert_exporter": "python",
   "pygments_lexer": "ipython3",
   "version": "3.11.5"
  }
 },
 "nbformat": 4,
 "nbformat_minor": 5
}
