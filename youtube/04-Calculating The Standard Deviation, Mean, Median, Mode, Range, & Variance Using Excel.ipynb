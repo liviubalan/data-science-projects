{
 "cells": [
  {
   "cell_type": "markdown",
   "id": "e827e5d4-7166-49fb-80dc-69df02ecdebd",
   "metadata": {},
   "source": [
    "# [Calculating The Standard Deviation, Mean, Median, Mode, Range, & Variance Using Excel](https://www.youtube.com/watch?v=k17_euuiTKw&list=PL0o_zxa4K1BVsziIRdfv4Hl4UIqDZhXWV&index=10&ab_channel=TheOrganicChemistryTutor)"
   ]
  },
  {
   "cell_type": "code",
   "execution_count": 1,
   "id": "ca0fa18a-9cd4-40c4-8a54-a5319bef2a28",
   "metadata": {},
   "outputs": [],
   "source": [
    "import pandas as pd\n",
    "import numpy as np"
   ]
  },
  {
   "cell_type": "code",
   "execution_count": 2,
   "id": "ca92da69-3f48-484f-9af7-9458d2d6e43f",
   "metadata": {},
   "outputs": [
    {
     "data": {
      "text/html": [
       "<div>\n",
       "<style scoped>\n",
       "    .dataframe tbody tr th:only-of-type {\n",
       "        vertical-align: middle;\n",
       "    }\n",
       "\n",
       "    .dataframe tbody tr th {\n",
       "        vertical-align: top;\n",
       "    }\n",
       "\n",
       "    .dataframe thead th {\n",
       "        text-align: right;\n",
       "    }\n",
       "</style>\n",
       "<table border=\"1\" class=\"dataframe\">\n",
       "  <thead>\n",
       "    <tr style=\"text-align: right;\">\n",
       "      <th></th>\n",
       "      <th>0</th>\n",
       "    </tr>\n",
       "  </thead>\n",
       "  <tbody>\n",
       "    <tr>\n",
       "      <th>0</th>\n",
       "      <td>15</td>\n",
       "    </tr>\n",
       "    <tr>\n",
       "      <th>1</th>\n",
       "      <td>27</td>\n",
       "    </tr>\n",
       "    <tr>\n",
       "      <th>2</th>\n",
       "      <td>74</td>\n",
       "    </tr>\n",
       "    <tr>\n",
       "      <th>3</th>\n",
       "      <td>36</td>\n",
       "    </tr>\n",
       "    <tr>\n",
       "      <th>4</th>\n",
       "      <td>8</td>\n",
       "    </tr>\n",
       "    <tr>\n",
       "      <th>5</th>\n",
       "      <td>15</td>\n",
       "    </tr>\n",
       "    <tr>\n",
       "      <th>6</th>\n",
       "      <td>42</td>\n",
       "    </tr>\n",
       "    <tr>\n",
       "      <th>7</th>\n",
       "      <td>93</td>\n",
       "    </tr>\n",
       "    <tr>\n",
       "      <th>8</th>\n",
       "      <td>15</td>\n",
       "    </tr>\n",
       "    <tr>\n",
       "      <th>9</th>\n",
       "      <td>24</td>\n",
       "    </tr>\n",
       "  </tbody>\n",
       "</table>\n",
       "</div>"
      ],
      "text/plain": [
       "    0\n",
       "0  15\n",
       "1  27\n",
       "2  74\n",
       "3  36\n",
       "4   8\n",
       "5  15\n",
       "6  42\n",
       "7  93\n",
       "8  15\n",
       "9  24"
      ]
     },
     "execution_count": 2,
     "metadata": {},
     "output_type": "execute_result"
    }
   ],
   "source": [
    "data = [15,27,74,36,8,15,42,93,15,24]\n",
    "df = pd.DataFrame(data)\n",
    "df"
   ]
  },
  {
   "cell_type": "code",
   "execution_count": 3,
   "id": "a76048c0-0901-44d1-917f-a69209f7357e",
   "metadata": {},
   "outputs": [
    {
     "data": {
      "text/plain": [
       "0    349\n",
       "dtype: int64"
      ]
     },
     "execution_count": 3,
     "metadata": {},
     "output_type": "execute_result"
    }
   ],
   "source": [
    "df.sum()"
   ]
  },
  {
   "cell_type": "code",
   "execution_count": 4,
   "id": "0b4a59b1-8b55-4496-9ccb-6ca3631353c0",
   "metadata": {
    "scrolled": true
   },
   "outputs": [
    {
     "data": {
      "text/plain": [
       "0    34.9\n",
       "dtype: float64"
      ]
     },
     "execution_count": 4,
     "metadata": {},
     "output_type": "execute_result"
    }
   ],
   "source": [
    "df.mean()"
   ]
  },
  {
   "cell_type": "code",
   "execution_count": 5,
   "id": "b95d39ee-0b56-4a3d-9b12-2bc6a5ab3de2",
   "metadata": {
    "scrolled": true
   },
   "outputs": [
    {
     "data": {
      "text/plain": [
       "0    25.5\n",
       "dtype: float64"
      ]
     },
     "execution_count": 5,
     "metadata": {},
     "output_type": "execute_result"
    }
   ],
   "source": [
    "df.median()"
   ]
  },
  {
   "cell_type": "code",
   "execution_count": 6,
   "id": "382e4c59-dc4b-4fa8-b741-cb427e15f3c3",
   "metadata": {
    "scrolled": true
   },
   "outputs": [
    {
     "data": {
      "text/html": [
       "<div>\n",
       "<style scoped>\n",
       "    .dataframe tbody tr th:only-of-type {\n",
       "        vertical-align: middle;\n",
       "    }\n",
       "\n",
       "    .dataframe tbody tr th {\n",
       "        vertical-align: top;\n",
       "    }\n",
       "\n",
       "    .dataframe thead th {\n",
       "        text-align: right;\n",
       "    }\n",
       "</style>\n",
       "<table border=\"1\" class=\"dataframe\">\n",
       "  <thead>\n",
       "    <tr style=\"text-align: right;\">\n",
       "      <th></th>\n",
       "      <th>0</th>\n",
       "    </tr>\n",
       "  </thead>\n",
       "  <tbody>\n",
       "    <tr>\n",
       "      <th>0</th>\n",
       "      <td>15</td>\n",
       "    </tr>\n",
       "  </tbody>\n",
       "</table>\n",
       "</div>"
      ],
      "text/plain": [
       "    0\n",
       "0  15"
      ]
     },
     "execution_count": 6,
     "metadata": {},
     "output_type": "execute_result"
    }
   ],
   "source": [
    "df.mode()"
   ]
  },
  {
   "cell_type": "code",
   "execution_count": 7,
   "id": "624cc690-c74f-4a73-9f27-d7d01f3ebbaf",
   "metadata": {
    "scrolled": true
   },
   "outputs": [
    {
     "data": {
      "text/plain": [
       "0    93\n",
       "dtype: int64"
      ]
     },
     "execution_count": 7,
     "metadata": {},
     "output_type": "execute_result"
    }
   ],
   "source": [
    "df.max()"
   ]
  },
  {
   "cell_type": "code",
   "execution_count": 8,
   "id": "21937ecd-be41-4d03-b00a-a8dae304238c",
   "metadata": {
    "scrolled": true
   },
   "outputs": [
    {
     "data": {
      "text/plain": [
       "0    8\n",
       "dtype: int64"
      ]
     },
     "execution_count": 8,
     "metadata": {},
     "output_type": "execute_result"
    }
   ],
   "source": [
    "df.min()"
   ]
  },
  {
   "cell_type": "code",
   "execution_count": 9,
   "id": "9df1c8f0-d570-4789-bb19-948c12e5ef9f",
   "metadata": {},
   "outputs": [
    {
     "data": {
      "text/plain": [
       "0    783.211111\n",
       "dtype: float64"
      ]
     },
     "execution_count": 9,
     "metadata": {},
     "output_type": "execute_result"
    }
   ],
   "source": [
    "# sample\n",
    "df.var()"
   ]
  },
  {
   "cell_type": "code",
   "execution_count": 10,
   "id": "7b92442d-ab89-4a8a-8467-186b864b065a",
   "metadata": {},
   "outputs": [
    {
     "data": {
      "text/plain": [
       "0    27.985909\n",
       "dtype: float64"
      ]
     },
     "execution_count": 10,
     "metadata": {},
     "output_type": "execute_result"
    }
   ],
   "source": [
    "df.std()"
   ]
  },
  {
   "cell_type": "code",
   "execution_count": 11,
   "id": "6bd0811a-d8ef-4921-986b-8c04ee258ea3",
   "metadata": {
    "scrolled": true
   },
   "outputs": [
    {
     "data": {
      "text/plain": [
       "0    783.211111\n",
       "dtype: float64"
      ]
     },
     "execution_count": 11,
     "metadata": {},
     "output_type": "execute_result"
    }
   ],
   "source": [
    "mean = df.mean()\n",
    "n = len(df)\n",
    "var = ((df-mean)**2).sum() / (n-1)\n",
    "var"
   ]
  },
  {
   "cell_type": "code",
   "execution_count": 12,
   "id": "d27dacbd-dc80-4c41-8c90-f263e07705ef",
   "metadata": {},
   "outputs": [
    {
     "data": {
      "text/plain": [
       "0    27.985909\n",
       "dtype: float64"
      ]
     },
     "execution_count": 12,
     "metadata": {},
     "output_type": "execute_result"
    }
   ],
   "source": [
    "var ** 0.5"
   ]
  },
  {
   "cell_type": "code",
   "execution_count": 13,
   "id": "0052bf1b-80b5-460d-9b04-906e816893ed",
   "metadata": {},
   "outputs": [
    {
     "data": {
      "text/plain": [
       "0    704.89\n",
       "dtype: float64"
      ]
     },
     "execution_count": 13,
     "metadata": {},
     "output_type": "execute_result"
    }
   ],
   "source": [
    "# population\n",
    "df.var(ddof=0)"
   ]
  },
  {
   "cell_type": "code",
   "execution_count": 14,
   "id": "9db35dbf-c5e3-4439-9b21-5d2cf0a8e550",
   "metadata": {
    "scrolled": true
   },
   "outputs": [
    {
     "data": {
      "text/plain": [
       "0    26.549765\n",
       "dtype: float64"
      ]
     },
     "execution_count": 14,
     "metadata": {},
     "output_type": "execute_result"
    }
   ],
   "source": [
    "df.std(ddof=0)"
   ]
  },
  {
   "cell_type": "code",
   "execution_count": 15,
   "id": "b6b73397-94f2-4096-82ad-1e3c90767c02",
   "metadata": {},
   "outputs": [
    {
     "data": {
      "text/plain": [
       "0    704.89\n",
       "dtype: float64"
      ]
     },
     "execution_count": 15,
     "metadata": {},
     "output_type": "execute_result"
    }
   ],
   "source": [
    "var = ((df-mean)**2).sum() / n\n",
    "var"
   ]
  },
  {
   "cell_type": "code",
   "execution_count": 16,
   "id": "f1fda85e-a360-41aa-acf5-058571a653ef",
   "metadata": {},
   "outputs": [
    {
     "data": {
      "text/plain": [
       "0    26.549765\n",
       "dtype: float64"
      ]
     },
     "execution_count": 16,
     "metadata": {},
     "output_type": "execute_result"
    }
   ],
   "source": [
    "var ** 0.5"
   ]
  },
  {
   "cell_type": "markdown",
   "id": "e6e766dd-5dd0-4283-a69d-3aaef9890ccf",
   "metadata": {},
   "source": []
  }
 ],
 "metadata": {
  "kernelspec": {
   "display_name": "Python 3 (ipykernel)",
   "language": "python",
   "name": "python3"
  },
  "language_info": {
   "codemirror_mode": {
    "name": "ipython",
    "version": 3
   },
   "file_extension": ".py",
   "mimetype": "text/x-python",
   "name": "python",
   "nbconvert_exporter": "python",
   "pygments_lexer": "ipython3",
   "version": "3.11.5"
  }
 },
 "nbformat": 4,
 "nbformat_minor": 5
}
