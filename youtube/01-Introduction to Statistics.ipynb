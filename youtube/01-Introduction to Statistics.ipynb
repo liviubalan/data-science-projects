{
 "cells": [
  {
   "cell_type": "markdown",
   "id": "c6e26e13-a77a-4c30-902c-52704cc1585a",
   "metadata": {},
   "source": [
    "# [Introduction to Statistics](https://www.youtube.com/watch?v=XZo4xyJXCak&list=PL0o_zxa4K1BVsziIRdfv4Hl4UIqDZhXWV&ab_channel=TheOrganicChemistryTutor)"
   ]
  },
  {
   "cell_type": "markdown",
   "id": "c8980baa-1349-47f9-8ee7-0c8a7f5ee9e7",
   "metadata": {},
   "source": [
    "## Mean, median, mode, range\n",
    "\n",
    "```\n",
    "10,7,14,23,15,7,32\n",
    "mean: 15.43\n",
    "median: 14\n",
    "mode: 7\n",
    "range: 25\n",
    "\n",
    "15,21,59,15,37,59,11,41\n",
    "mean: 32.25\n",
    "median: 29\n",
    "mode: 15, 59\n",
    "range: 48\n",
    "```"
   ]
  },
  {
   "cell_type": "code",
   "execution_count": 1,
   "id": "d0386ad0-200a-4425-8a19-89e73d269395",
   "metadata": {},
   "outputs": [],
   "source": [
    "import pandas as pd\n",
    "import numpy as np\n",
    "import matplotlib.pyplot as plt\n",
    "import statistics as st\n",
    "from scipy.stats import norm\n",
    "from scipy.stats import skewnorm\n",
    "import stemgraphic"
   ]
  },
  {
   "cell_type": "code",
   "execution_count": 2,
   "id": "c48d9544-8dc2-4de9-a2bd-bf0117ca6087",
   "metadata": {},
   "outputs": [],
   "source": [
    "np.random.seed(42)"
   ]
  },
  {
   "cell_type": "code",
   "execution_count": 3,
   "id": "d45c4a37-a9df-4a06-89db-c35008d79281",
   "metadata": {
    "scrolled": true
   },
   "outputs": [
    {
     "data": {
      "text/html": [
       "<div>\n",
       "<style scoped>\n",
       "    .dataframe tbody tr th:only-of-type {\n",
       "        vertical-align: middle;\n",
       "    }\n",
       "\n",
       "    .dataframe tbody tr th {\n",
       "        vertical-align: top;\n",
       "    }\n",
       "\n",
       "    .dataframe thead th {\n",
       "        text-align: right;\n",
       "    }\n",
       "</style>\n",
       "<table border=\"1\" class=\"dataframe\">\n",
       "  <thead>\n",
       "    <tr style=\"text-align: right;\">\n",
       "      <th></th>\n",
       "      <th>0</th>\n",
       "    </tr>\n",
       "  </thead>\n",
       "  <tbody>\n",
       "    <tr>\n",
       "      <th>0</th>\n",
       "      <td>15</td>\n",
       "    </tr>\n",
       "    <tr>\n",
       "      <th>1</th>\n",
       "      <td>21</td>\n",
       "    </tr>\n",
       "    <tr>\n",
       "      <th>2</th>\n",
       "      <td>59</td>\n",
       "    </tr>\n",
       "    <tr>\n",
       "      <th>3</th>\n",
       "      <td>15</td>\n",
       "    </tr>\n",
       "    <tr>\n",
       "      <th>4</th>\n",
       "      <td>37</td>\n",
       "    </tr>\n",
       "    <tr>\n",
       "      <th>5</th>\n",
       "      <td>59</td>\n",
       "    </tr>\n",
       "    <tr>\n",
       "      <th>6</th>\n",
       "      <td>11</td>\n",
       "    </tr>\n",
       "    <tr>\n",
       "      <th>7</th>\n",
       "      <td>41</td>\n",
       "    </tr>\n",
       "  </tbody>\n",
       "</table>\n",
       "</div>"
      ],
      "text/plain": [
       "    0\n",
       "0  15\n",
       "1  21\n",
       "2  59\n",
       "3  15\n",
       "4  37\n",
       "5  59\n",
       "6  11\n",
       "7  41"
      ]
     },
     "execution_count": 3,
     "metadata": {},
     "output_type": "execute_result"
    }
   ],
   "source": [
    "# data = [10,7,14,23,15,7,32]\n",
    "data = [15,21,59,15,37,59,11,41]\n",
    "df = pd.DataFrame(data)\n",
    "df"
   ]
  },
  {
   "cell_type": "code",
   "execution_count": 4,
   "id": "d150aba7-edf3-4cf0-96f2-801f604a0ec5",
   "metadata": {},
   "outputs": [
    {
     "data": {
      "text/plain": [
       "0    32.25\n",
       "dtype: float64"
      ]
     },
     "execution_count": 4,
     "metadata": {},
     "output_type": "execute_result"
    }
   ],
   "source": [
    "df.mean()"
   ]
  },
  {
   "cell_type": "code",
   "execution_count": 5,
   "id": "29aa6be8-126f-4e4d-9ef4-953b6a467b1e",
   "metadata": {},
   "outputs": [
    {
     "data": {
      "text/plain": [
       "pandas.core.series.Series"
      ]
     },
     "execution_count": 5,
     "metadata": {},
     "output_type": "execute_result"
    }
   ],
   "source": [
    "# TODO: Why Series\n",
    "type(df.mean())"
   ]
  },
  {
   "cell_type": "code",
   "execution_count": 6,
   "id": "e60393e4-542f-4929-a9e1-9f7067d6f118",
   "metadata": {},
   "outputs": [
    {
     "data": {
      "text/plain": [
       "0    32.25\n",
       "dtype: float64"
      ]
     },
     "execution_count": 6,
     "metadata": {},
     "output_type": "execute_result"
    }
   ],
   "source": [
    "df.mean().round(2)"
   ]
  },
  {
   "cell_type": "code",
   "execution_count": 7,
   "id": "ef6d9dc7-f900-4dbc-8547-fc747a947cfd",
   "metadata": {},
   "outputs": [
    {
     "data": {
      "text/plain": [
       "0    29.0\n",
       "dtype: float64"
      ]
     },
     "execution_count": 7,
     "metadata": {},
     "output_type": "execute_result"
    }
   ],
   "source": [
    "df.median()"
   ]
  },
  {
   "cell_type": "code",
   "execution_count": 8,
   "id": "7c15e3cd-aee5-4ebc-a73b-ee85e6eab098",
   "metadata": {},
   "outputs": [
    {
     "data": {
      "text/html": [
       "<div>\n",
       "<style scoped>\n",
       "    .dataframe tbody tr th:only-of-type {\n",
       "        vertical-align: middle;\n",
       "    }\n",
       "\n",
       "    .dataframe tbody tr th {\n",
       "        vertical-align: top;\n",
       "    }\n",
       "\n",
       "    .dataframe thead th {\n",
       "        text-align: right;\n",
       "    }\n",
       "</style>\n",
       "<table border=\"1\" class=\"dataframe\">\n",
       "  <thead>\n",
       "    <tr style=\"text-align: right;\">\n",
       "      <th></th>\n",
       "      <th>0</th>\n",
       "    </tr>\n",
       "  </thead>\n",
       "  <tbody>\n",
       "    <tr>\n",
       "      <th>0</th>\n",
       "      <td>15</td>\n",
       "    </tr>\n",
       "    <tr>\n",
       "      <th>1</th>\n",
       "      <td>59</td>\n",
       "    </tr>\n",
       "  </tbody>\n",
       "</table>\n",
       "</div>"
      ],
      "text/plain": [
       "    0\n",
       "0  15\n",
       "1  59"
      ]
     },
     "execution_count": 8,
     "metadata": {},
     "output_type": "execute_result"
    }
   ],
   "source": [
    "df.mode()"
   ]
  },
  {
   "cell_type": "code",
   "execution_count": 9,
   "id": "f93c01d7-094c-461d-9dbd-4be727722828",
   "metadata": {},
   "outputs": [
    {
     "data": {
      "text/plain": [
       "pandas.core.frame.DataFrame"
      ]
     },
     "execution_count": 9,
     "metadata": {},
     "output_type": "execute_result"
    }
   ],
   "source": [
    "type(df.mode())"
   ]
  },
  {
   "cell_type": "code",
   "execution_count": 10,
   "id": "ffb58cce-ca3b-46f9-8b86-32c0a468d129",
   "metadata": {},
   "outputs": [
    {
     "data": {
      "text/plain": [
       "0    48\n",
       "dtype: int64"
      ]
     },
     "execution_count": 10,
     "metadata": {},
     "output_type": "execute_result"
    }
   ],
   "source": [
    "# range\n",
    "df.max()-df.min()"
   ]
  },
  {
   "cell_type": "markdown",
   "id": "6df07d63-5ef9-4f3b-90b3-9be7e1acaf5f",
   "metadata": {},
   "source": [
    "## IQR\n",
    "\n",
    "```\n",
    "7,11,14,5,8,27,16,10,13,17,16\n",
    "Q1: 8\n",
    "Q2: 13\n",
    "Q3: 16\n",
    "IQR: 8\n",
    "27 is not an outlier\n",
    "\n",
    "16,18,28,13,50,31,25,22,18,23,29,38\n",
    "Q1: 18\n",
    "Q2: 24\n",
    "Q3: 30\n",
    "boxplot\n",
    "```"
   ]
  },
  {
   "cell_type": "code",
   "execution_count": 11,
   "id": "d61e92e6-7497-4dbb-98ce-8b63aa4400eb",
   "metadata": {},
   "outputs": [
    {
     "data": {
      "text/html": [
       "<div>\n",
       "<style scoped>\n",
       "    .dataframe tbody tr th:only-of-type {\n",
       "        vertical-align: middle;\n",
       "    }\n",
       "\n",
       "    .dataframe tbody tr th {\n",
       "        vertical-align: top;\n",
       "    }\n",
       "\n",
       "    .dataframe thead th {\n",
       "        text-align: right;\n",
       "    }\n",
       "</style>\n",
       "<table border=\"1\" class=\"dataframe\">\n",
       "  <thead>\n",
       "    <tr style=\"text-align: right;\">\n",
       "      <th></th>\n",
       "      <th>0</th>\n",
       "    </tr>\n",
       "  </thead>\n",
       "  <tbody>\n",
       "    <tr>\n",
       "      <th>0</th>\n",
       "      <td>16</td>\n",
       "    </tr>\n",
       "    <tr>\n",
       "      <th>1</th>\n",
       "      <td>18</td>\n",
       "    </tr>\n",
       "    <tr>\n",
       "      <th>2</th>\n",
       "      <td>28</td>\n",
       "    </tr>\n",
       "    <tr>\n",
       "      <th>3</th>\n",
       "      <td>13</td>\n",
       "    </tr>\n",
       "    <tr>\n",
       "      <th>4</th>\n",
       "      <td>50</td>\n",
       "    </tr>\n",
       "    <tr>\n",
       "      <th>5</th>\n",
       "      <td>31</td>\n",
       "    </tr>\n",
       "    <tr>\n",
       "      <th>6</th>\n",
       "      <td>25</td>\n",
       "    </tr>\n",
       "    <tr>\n",
       "      <th>7</th>\n",
       "      <td>22</td>\n",
       "    </tr>\n",
       "    <tr>\n",
       "      <th>8</th>\n",
       "      <td>18</td>\n",
       "    </tr>\n",
       "    <tr>\n",
       "      <th>9</th>\n",
       "      <td>23</td>\n",
       "    </tr>\n",
       "    <tr>\n",
       "      <th>10</th>\n",
       "      <td>29</td>\n",
       "    </tr>\n",
       "    <tr>\n",
       "      <th>11</th>\n",
       "      <td>38</td>\n",
       "    </tr>\n",
       "  </tbody>\n",
       "</table>\n",
       "</div>"
      ],
      "text/plain": [
       "     0\n",
       "0   16\n",
       "1   18\n",
       "2   28\n",
       "3   13\n",
       "4   50\n",
       "5   31\n",
       "6   25\n",
       "7   22\n",
       "8   18\n",
       "9   23\n",
       "10  29\n",
       "11  38"
      ]
     },
     "execution_count": 11,
     "metadata": {},
     "output_type": "execute_result"
    }
   ],
   "source": [
    "# data = [7,11,14,5,8,27,16,10,13,17,16]\n",
    "data = [16,18,28,13,50,31,25,22,18,23,29,38]\n",
    "df = pd.DataFrame(data)\n",
    "df"
   ]
  },
  {
   "cell_type": "markdown",
   "id": "b13990c7-dd00-42f2-9255-db0564e520d1",
   "metadata": {},
   "source": [
    "See: [Pandas IQR: Calculate the Interquartile Range in Python](https://datagy.io/pandas-iqr/)"
   ]
  },
  {
   "cell_type": "code",
   "execution_count": 12,
   "id": "ea8ac484-8676-4d8b-a150-51db3129ee06",
   "metadata": {
    "scrolled": true
   },
   "outputs": [
    {
     "data": {
      "text/plain": [
       "0.25    18.0\n",
       "0.50    24.0\n",
       "0.75    30.0\n",
       "Name: 0, dtype: float64"
      ]
     },
     "execution_count": 12,
     "metadata": {},
     "output_type": "execute_result"
    }
   ],
   "source": [
    "# TODO: interpolation param\n",
    "# quartiles = df[0].quantile([0.25, 0.5, 0.75], interpolation='nearest')\n",
    "quartiles = df[0].quantile([0.25, 0.5, 0.75], interpolation='midpoint')\n",
    "quartiles"
   ]
  },
  {
   "cell_type": "code",
   "execution_count": 13,
   "id": "a5b4a366-5abd-4ab8-804a-555d7b578188",
   "metadata": {},
   "outputs": [
    {
     "data": {
      "text/plain": [
       "12.0"
      ]
     },
     "execution_count": 13,
     "metadata": {},
     "output_type": "execute_result"
    }
   ],
   "source": [
    "q1 = quartiles[0.25]\n",
    "q2 = quartiles[0.5]\n",
    "q3 = quartiles[0.75]\n",
    "iqr = q3 - q1\n",
    "iqr"
   ]
  },
  {
   "cell_type": "code",
   "execution_count": 14,
   "id": "5209c48f-9ef7-4332-953e-5f9e2eaaa6ea",
   "metadata": {},
   "outputs": [
    {
     "data": {
      "text/plain": [
       "[0.0, 48.0]"
      ]
     },
     "execution_count": 14,
     "metadata": {},
     "output_type": "execute_result"
    }
   ],
   "source": [
    "[q1 - 1.5 * iqr, q3 + 1.5 * iqr]"
   ]
  },
  {
   "cell_type": "code",
   "execution_count": 15,
   "id": "002ef943-3ea1-47f6-ae66-2f6ca267db9f",
   "metadata": {},
   "outputs": [
    {
     "data": {
      "image/png": "[encoded data removed]",
      "text/plain": [
       "<Figure size 640x480 with 1 Axes>"
      ]
     },
     "metadata": {},
     "output_type": "display_data"
    }
   ],
   "source": [
    "plt.boxplot(data, vert=False)\n",
    "plt.show()"
   ]
  },
  {
   "cell_type": "markdown",
   "id": "eb1a1c19-082f-4157-bed1-4ab57385eaaf",
   "metadata": {},
   "source": [
    "## Distributions"
   ]
  },
  {
   "cell_type": "markdown",
   "id": "e63fa14f-8408-4f82-b5eb-238e611fcb89",
   "metadata": {},
   "source": [
    "See: [Generate dataset with normal distribution in Python](https://www.reneshbedre.com/blog/random-dataset-norm-distribution-python.html)"
   ]
  },
  {
   "cell_type": "markdown",
   "id": "47a8c66b-2570-4203-8eda-86613a010ca4",
   "metadata": {},
   "source": [
    "### Normal Distribution"
   ]
  },
  {
   "cell_type": "code",
   "execution_count": 16,
   "id": "737c39e6-47e1-4cca-90f6-92c91398d676",
   "metadata": {},
   "outputs": [
    {
     "data": {
      "text/plain": [
       "(500,)"
      ]
     },
     "execution_count": 16,
     "metadata": {},
     "output_type": "execute_result"
    }
   ],
   "source": [
    "data = np.random.normal(loc=0, scale=1, size=500)\n",
    "data.shape"
   ]
  },
  {
   "cell_type": "code",
   "execution_count": 17,
   "id": "a38a9646-a8c8-42bf-94a8-db8ff6b0ebfb",
   "metadata": {},
   "outputs": [
    {
     "name": "stdout",
     "output_type": "stream",
     "text": [
      "0.006837994588647582\n",
      "0.01279714632985094\n",
      "0.4967141530112327\n"
     ]
    }
   ],
   "source": [
    "print(st.mean(data))\n",
    "print(st.median(data))\n",
    "print(st.mode(data))"
   ]
  },
  {
   "cell_type": "code",
   "execution_count": 18,
   "id": "277bcfd9-cbd4-45b9-9ea4-2055458e02bc",
   "metadata": {},
   "outputs": [
    {
     "data": {
      "image/png": "[encoded data removed]",
      "text/plain": [
       "<Figure size 640x480 with 1 Axes>"
      ]
     },
     "metadata": {},
     "output_type": "display_data"
    }
   ],
   "source": [
    "h = plt.hist(data, bins=30, histtype='bar', density=1, ec='k') \n",
    "plt.plot(h[1], norm.pdf(h[1], st.mean(data), st.stdev(data)), color='r', linewidth=2)\n",
    "plt.title(r'Mean=%.4f, Std Dev=%.4f' %(st.mean(data), st.stdev(data)))\n",
    "plt.show()"
   ]
  },
  {
   "cell_type": "code",
   "execution_count": 19,
   "id": "db13ff7a-6207-4e6c-81b6-c7474b196f38",
   "metadata": {},
   "outputs": [
    {
     "data": {
      "image/png": "[encoded data removed]",
      "text/plain": [
       "<Figure size 640x480 with 1 Axes>"
      ]
     },
     "metadata": {},
     "output_type": "display_data"
    }
   ],
   "source": [
    "# TODO: is there a difference between boxplot and whiscaker plot\n",
    "plt.boxplot(data, vert=False)\n",
    "plt.show()"
   ]
  },
  {
   "cell_type": "markdown",
   "id": "7f4a6c7e-3db9-4106-a758-a8938866aec2",
   "metadata": {},
   "source": [
    "### Left Skewed Distribution"
   ]
  },
  {
   "cell_type": "code",
   "execution_count": 20,
   "id": "6106bdaa-0e99-4061-9550-3d681b7c326e",
   "metadata": {},
   "outputs": [
    {
     "data": {
      "text/plain": [
       "(10000,)"
      ]
     },
     "execution_count": 20,
     "metadata": {},
     "output_type": "execute_result"
    }
   ],
   "source": [
    "# See: https://stackoverflow.com/questions/24854965/create-random-numbers-with-left-skewed-probability-distribution\n",
    "numValues = 10000\n",
    "maxValue = 100\n",
    "skewness = -5   # Negative values are left skewed, positive values are right skewed\n",
    "data = skewnorm.rvs(a = skewness,loc=maxValue, size=numValues)  #Skewnorm function\n",
    "data.shape"
   ]
  },
  {
   "cell_type": "code",
   "execution_count": 21,
   "id": "168037a5-ffc6-49ee-ac5e-78e94c0a4bce",
   "metadata": {},
   "outputs": [
    {
     "name": "stdout",
     "output_type": "stream",
     "text": [
      "99.21526998714381\n",
      "99.32630802192372\n",
      "99.39408614055687\n"
     ]
    }
   ],
   "source": [
    "print(st.mean(data))\n",
    "print(st.median(data))\n",
    "print(st.mode(data))"
   ]
  },
  {
   "cell_type": "code",
   "execution_count": 22,
   "id": "768f836b-17c6-493a-805b-cf25a2509593",
   "metadata": {},
   "outputs": [
    {
     "data": {
      "image/png": "[encoded data removed]",
      "text/plain": [
       "<Figure size 640x480 with 1 Axes>"
      ]
     },
     "metadata": {},
     "output_type": "display_data"
    }
   ],
   "source": [
    "h = plt.hist(data, bins=30, histtype='bar', density=1, ec='k') \n",
    "plt.plot(h[1], norm.pdf(h[1], st.mean(data), st.stdev(data)), color='r', linewidth=2)\n",
    "plt.title(r'Mean=%.4f, Std Dev=%.4f' %(st.mean(data), st.stdev(data)))\n",
    "plt.show()"
   ]
  },
  {
   "cell_type": "code",
   "execution_count": 23,
   "id": "9cd9bbb2-e3bf-427d-8865-787a2392bd96",
   "metadata": {},
   "outputs": [
    {
     "data": {
      "image/png": "[encoded data removed]",
      "text/plain": [
       "<Figure size 640x480 with 1 Axes>"
      ]
     },
     "metadata": {},
     "output_type": "display_data"
    }
   ],
   "source": [
    "plt.boxplot(data, vert=False)\n",
    "plt.show()"
   ]
  },
  {
   "cell_type": "markdown",
   "id": "4a80dc96-c77f-4e26-a7b5-16c4f4a7ea9c",
   "metadata": {},
   "source": [
    "### Right Skewed Distribution"
   ]
  },
  {
   "cell_type": "code",
   "execution_count": 24,
   "id": "4abb6402-cc0f-4478-978a-dde0af8b17c5",
   "metadata": {},
   "outputs": [
    {
     "data": {
      "text/plain": [
       "(10000,)"
      ]
     },
     "execution_count": 24,
     "metadata": {},
     "output_type": "execute_result"
    }
   ],
   "source": [
    "# See: https://stackoverflow.com/questions/24854965/create-random-numbers-with-left-skewed-probability-distribution\n",
    "numValues = 10000\n",
    "maxValue = 100\n",
    "skewness = 5   # Negative values are left skewed, positive values are right skewed\n",
    "data = skewnorm.rvs(a = skewness,loc=maxValue, size=numValues)  #Skewnorm function\n",
    "data.shape"
   ]
  },
  {
   "cell_type": "code",
   "execution_count": 25,
   "id": "7e957ca9-d12a-4015-b151-6b4d5feab2fa",
   "metadata": {},
   "outputs": [
    {
     "name": "stdout",
     "output_type": "stream",
     "text": [
      "100.776646347185\n",
      "100.67332723191242\n",
      "101.13687565819924\n"
     ]
    }
   ],
   "source": [
    "print(st.mean(data))\n",
    "print(st.median(data))\n",
    "print(st.mode(data))"
   ]
  },
  {
   "cell_type": "code",
   "execution_count": 26,
   "id": "7f4b936a-dc52-4b43-aafa-ff44faf540b4",
   "metadata": {},
   "outputs": [
    {
     "data": {
      "image/png": "[encoded data removed]",
      "text/plain": [
       "<Figure size 640x480 with 1 Axes>"
      ]
     },
     "metadata": {},
     "output_type": "display_data"
    }
   ],
   "source": [
    "h = plt.hist(data, bins=30, histtype='bar', density=1, ec='k') \n",
    "plt.plot(h[1], norm.pdf(h[1], st.mean(data), st.stdev(data)), color='r', linewidth=2)\n",
    "plt.title(r'Mean=%.4f, Std Dev=%.4f' %(st.mean(data), st.stdev(data)))\n",
    "plt.show()"
   ]
  },
  {
   "cell_type": "code",
   "execution_count": 27,
   "id": "2baf6722-d23a-40c4-ac21-a61c202a295f",
   "metadata": {},
   "outputs": [
    {
     "data": {
      "image/png": "[encoded data removed]",
      "text/plain": [
       "<Figure size 640x480 with 1 Axes>"
      ]
     },
     "metadata": {},
     "output_type": "display_data"
    }
   ],
   "source": [
    "plt.boxplot(data, vert=False)\n",
    "plt.show()"
   ]
  },
  {
   "cell_type": "code",
   "execution_count": 28,
   "id": "ced7016d-7f0c-4f16-8500-7995b98dcb0d",
   "metadata": {},
   "outputs": [
    {
     "data": {
      "image/png": "[encoded data removed]",
      "text/plain": [
       "<Figure size 640x480 with 1 Axes>"
      ]
     },
     "metadata": {},
     "output_type": "display_data"
    }
   ],
   "source": [
    "# See: https://stackoverflow.com/questions/49703938/how-to-create-a-dot-plot-in-matplotlib-not-a-scatter-plot\n",
    "# dot plot\n",
    "data = [5,8,3,7,1,5,3,2,3,3,8,5]\n",
    "plt.hist(data, bins=np.arange(13)-0.5, ec=\"k\")\n",
    "plt.show()"
   ]
  },
  {
   "cell_type": "code",
   "execution_count": 29,
   "id": "bc74c532-1527-4b0a-87c6-fc342467f433",
   "metadata": {},
   "outputs": [
    {
     "data": {
      "image/png": "[encoded data removed]",
      "text/plain": [
       "<Figure size 750x425 with 1 Axes>"
      ]
     },
     "metadata": {},
     "output_type": "display_data"
    }
   ],
   "source": [
    "# TODO: only didactic or is used in real life?\n",
    "# https://stackoverflow.com/questions/45655321/is-there-a-pandas-function-for-creating-a-stem-and-leaf-plot\n",
    "x = [\n",
    "    # 4,9,13,13,17,21,36,38,38,38,56\n",
    "    # 78,85,89,92,106,107,119\n",
    "    1.2, 1.6, 1.8, 2.1, 2.3, 2.3, 2.5\n",
    "]\n",
    "y = pd.Series(x)\n",
    "fig, ax = stemgraphic.stem_graphic(y)"
   ]
  },
  {
   "cell_type": "code",
   "execution_count": 30,
   "id": "625de534-2ede-4b9e-91a8-19f31078a3f3",
   "metadata": {},
   "outputs": [
    {
     "data": {
      "text/html": [
       "<div>\n",
       "<style scoped>\n",
       "    .dataframe tbody tr th:only-of-type {\n",
       "        vertical-align: middle;\n",
       "    }\n",
       "\n",
       "    .dataframe tbody tr th {\n",
       "        vertical-align: top;\n",
       "    }\n",
       "\n",
       "    .dataframe thead th {\n",
       "        text-align: right;\n",
       "    }\n",
       "</style>\n",
       "<table border=\"1\" class=\"dataframe\">\n",
       "  <thead>\n",
       "    <tr style=\"text-align: right;\">\n",
       "      <th>col_0</th>\n",
       "      <th>count</th>\n",
       "    </tr>\n",
       "    <tr>\n",
       "      <th>0</th>\n",
       "      <th></th>\n",
       "    </tr>\n",
       "  </thead>\n",
       "  <tbody>\n",
       "    <tr>\n",
       "      <th>5</th>\n",
       "      <td>1</td>\n",
       "    </tr>\n",
       "    <tr>\n",
       "      <th>7</th>\n",
       "      <td>2</td>\n",
       "    </tr>\n",
       "    <tr>\n",
       "      <th>8</th>\n",
       "      <td>4</td>\n",
       "    </tr>\n",
       "    <tr>\n",
       "      <th>9</th>\n",
       "      <td>3</td>\n",
       "    </tr>\n",
       "    <tr>\n",
       "      <th>10</th>\n",
       "      <td>1</td>\n",
       "    </tr>\n",
       "    <tr>\n",
       "      <th>12</th>\n",
       "      <td>1</td>\n",
       "    </tr>\n",
       "  </tbody>\n",
       "</table>\n",
       "</div>"
      ],
      "text/plain": [
       "col_0  count\n",
       "0           \n",
       "5          1\n",
       "7          2\n",
       "8          4\n",
       "9          3\n",
       "10         1\n",
       "12         1"
      ]
     },
     "execution_count": 30,
     "metadata": {},
     "output_type": "execute_result"
    }
   ],
   "source": [
    "# TODO: usage in real life\n",
    "# https://www.geeksforgeeks.org/how-to-create-frequency-tables-in-python/\n",
    "data = [5,9,8,7,8,12,9,8,10,8,9,7]\n",
    "df = pd.DataFrame(data)\n",
    "pd.crosstab(index=df[0], columns='count') "
   ]
  },
  {
   "cell_type": "code",
   "execution_count": 31,
   "id": "3befe468-7a78-4479-94a2-891598bd1787",
   "metadata": {},
   "outputs": [
    {
     "data": {
      "image/png": "[encoded data removed]",
      "text/plain": [
       "<Figure size 640x480 with 1 Axes>"
      ]
     },
     "metadata": {},
     "output_type": "display_data"
    }
   ],
   "source": [
    "# https://www.geeksforgeeks.org/how-to-create-frequency-tables-in-python/\n",
    "data = [65,72,93,68,76,98,84,85,79,88,90,82,83,87,78]\n",
    "df = pd.DataFrame(data)\n",
    "plt.hist(df, bins=4)\n",
    "plt.show()"
   ]
  },
  {
   "cell_type": "markdown",
   "id": "a6b5532e-8076-463d-a0e8-8dc4a9bc5376",
   "metadata": {},
   "source": [
    "## Q&A\n",
    "- `df[0].quantile([0.25, 0.5, 0.75], interpolation='midpoint')`\n",
    "- why mean != median != mode on a normal distribution?\n",
    "- why outliers on the generated normal distribution?"
   ]
  },
  {
   "cell_type": "code",
   "execution_count": null,
   "id": "aab3fdba-086d-4720-9d8d-70677c9299a9",
   "metadata": {},
   "outputs": [],
   "source": []
  }
 ],
 "metadata": {
  "kernelspec": {
   "display_name": "Python 3 (ipykernel)",
   "language": "python",
   "name": "python3"
  },
  "language_info": {
   "codemirror_mode": {
    "name": "ipython",
    "version": 3
   },
   "file_extension": ".py",
   "mimetype": "text/x-python",
   "name": "python",
   "nbconvert_exporter": "python",
   "pygments_lexer": "ipython3",
   "version": "3.11.5"
  }
 },
 "nbformat": 4,
 "nbformat_minor": 5
}
