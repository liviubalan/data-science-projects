{
 "cells": [
  {
   "cell_type": "markdown",
   "id": "e827e5d4-7166-49fb-80dc-69df02ecdebd",
   "metadata": {},
   "source": [
    "# [How To Find The Weighted Mean and Weighted Average In Statistics](https://www.youtube.com/watch?v=LdrBNhWw9AM&list=PL0o_zxa4K1BVsziIRdfv4Hl4UIqDZhXWV&index=8&ab_channel=TheOrganicChemistryTutor)"
   ]
  },
  {
   "cell_type": "code",
   "execution_count": 1,
   "id": "ca0fa18a-9cd4-40c4-8a54-a5319bef2a28",
   "metadata": {},
   "outputs": [],
   "source": [
    "import pandas as pd"
   ]
  },
  {
   "cell_type": "code",
   "execution_count": 2,
   "id": "ca92da69-3f48-484f-9af7-9458d2d6e43f",
   "metadata": {},
   "outputs": [
    {
     "data": {
      "text/html": [
       "<div>\n",
       "<style scoped>\n",
       "    .dataframe tbody tr th:only-of-type {\n",
       "        vertical-align: middle;\n",
       "    }\n",
       "\n",
       "    .dataframe tbody tr th {\n",
       "        vertical-align: top;\n",
       "    }\n",
       "\n",
       "    .dataframe thead th {\n",
       "        text-align: right;\n",
       "    }\n",
       "</style>\n",
       "<table border=\"1\" class=\"dataframe\">\n",
       "  <thead>\n",
       "    <tr style=\"text-align: right;\">\n",
       "      <th></th>\n",
       "      <th>weight</th>\n",
       "      <th>value</th>\n",
       "    </tr>\n",
       "  </thead>\n",
       "  <tbody>\n",
       "    <tr>\n",
       "      <th>0</th>\n",
       "      <td>5</td>\n",
       "      <td>20</td>\n",
       "    </tr>\n",
       "    <tr>\n",
       "      <th>1</th>\n",
       "      <td>10</td>\n",
       "      <td>50</td>\n",
       "    </tr>\n",
       "  </tbody>\n",
       "</table>\n",
       "</div>"
      ],
      "text/plain": [
       "   weight  value\n",
       "0       5     20\n",
       "1      10     50"
      ]
     },
     "execution_count": 2,
     "metadata": {},
     "output_type": "execute_result"
    }
   ],
   "source": [
    "# data = {\n",
    "#     'weight': [8, 7, 5],\n",
    "#     'value': [86, 74, 98],\n",
    "# }\n",
    "# data = {\n",
    "#     'weight': [.2, .35, .3, .15],\n",
    "#     'value': [140, 160, 175, 195],\n",
    "# }\n",
    "# data = {\n",
    "#     'weight': [.15, .1, .2, .25, .3],\n",
    "#     'value': [92, 74, 83, 76, 88],\n",
    "# }\n",
    "# data = {\n",
    "#     'weight': [.15, .1, .2, .25, .3],\n",
    "#     'value': [100, 82, 95, 70, 76],\n",
    "# }\n",
    "# data = {\n",
    "#     'weight': [3, 3, 1, 4, 3],\n",
    "#     'value': [3, 2, 4, 4, 3],\n",
    "# }\n",
    "data = {\n",
    "    'weight': [5, 10],\n",
    "    'value': [20, 50],\n",
    "}\n",
    "df = pd.DataFrame(data)\n",
    "df"
   ]
  },
  {
   "cell_type": "code",
   "execution_count": 3,
   "id": "74f7ae44-1312-4665-abd7-4c799f55122e",
   "metadata": {},
   "outputs": [
    {
     "data": {
      "text/plain": [
       "value\n",
       "20    40.0\n",
       "50    40.0\n",
       "dtype: float64"
      ]
     },
     "execution_count": 3,
     "metadata": {},
     "output_type": "execute_result"
    }
   ],
   "source": [
    "# https://www.geeksforgeeks.org/how-to-calculate-weighted-average-in-pandas/\n",
    "def weighted_average(dataframe, value, weight):\n",
    "\tval = df[value]\n",
    "\twt = df[weight]\n",
    "\treturn (val * wt).sum() / wt.sum()\n",
    "\n",
    "df.groupby('value').apply(weighted_average, 'value', 'weight')"
   ]
  },
  {
   "cell_type": "code",
   "execution_count": null,
   "id": "30728074-6bb2-4f30-919a-2c6e7895ba77",
   "metadata": {},
   "outputs": [],
   "source": []
  }
 ],
 "metadata": {
  "kernelspec": {
   "display_name": "Python 3 (ipykernel)",
   "language": "python",
   "name": "python3"
  },
  "language_info": {
   "codemirror_mode": {
    "name": "ipython",
    "version": 3
   },
   "file_extension": ".py",
   "mimetype": "text/x-python",
   "name": "python",
   "nbconvert_exporter": "python",
   "pygments_lexer": "ipython3",
   "version": "3.11.5"
  }
 },
 "nbformat": 4,
 "nbformat_minor": 5
}
